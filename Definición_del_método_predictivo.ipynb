{
  "nbformat": 4,
  "nbformat_minor": 0,
  "metadata": {
    "colab": {
      "provenance": []
    },
    "kernelspec": {
      "name": "python3",
      "display_name": "Python 3"
    },
    "language_info": {
      "name": "python"
    }
  },
  "cells": [
    {
      "cell_type": "markdown",
      "source": [
        "# **<center> MAESTRÍA EN INGENIERÍA - ANALÍTICA**\n",
        "\n",
        "**Estudiante:** Luis Felipe Ortiz\n",
        "\n",
        "**Director** Sergio Armando Gutierrez Betancur. **Codirector** John Willian Branch Bedoya\n",
        "\n",
        "**Proyecto:** Método para predicción de la intención de compra de usuarios en línea, utilizando técnicas de aprendizaje de máquina.\n",
        "\n",
        "\n",
        "#**Definición del método predictivo: enfoque de ensamble de técnicas**\n",
        "\n",
        "El método predictivo desarrollado combina dos técnicas de aprendizaje de máquina: Bosques Aleatorios y XGBoost. Estas técnicas fueron seleccionadas debido a su alto rendimiento en la métrica AUC  con valores de 0.93 y 0.92, respectivamente. El proceso de ensamble busca mejorar la precisión y robustez del sistema predictivo.\n",
        "\n",
        "- **Ajustes de hiperparámetros**\n",
        "\n",
        "Para optimizar el rendimiento de ambos modelos, se realizaron ajustes de hiperparámetros mediante una búsqueda en cuadrícula (GridSearchCV) con validación cruzada. La técnica de GridSearchCV ayuda a identificar las características más relevantes, reduciendo el impacto de las menos importantes.\n",
        "\n",
        "*Bosques Aleatorios*\n",
        "\n",
        "GridSearchCV: Se probaron 108 combinaciones de hiperparámetros, ajustando parámetros como el número de árboles (n_estimators), la profundidad máxima (max_depth) y la cantidad de características a considerar en cada división (max_features).\n",
        "\n",
        "Características Importantes: Variables como PageValues y productRelated_Duration mostraron ser significativamente influyentes en la precisión del modelo.\n",
        "\n",
        "*XGBoost*\n",
        "\n",
        "GridSearchCV: Se ajustaron 81 combinaciones de hiperparámetros, optimizando parámetros como la tasa de aprendizaje (learning_rate), la proporción de muestras utilizadas en cada árbol (subsample) y el número de árboles.\n",
        "\n",
        "Características Importantes: Además de PageValues, se destacó la variable Month, indicando la relevancia del tiempo y el comportamiento del usuario en diferentes períodos.\n",
        "\n",
        "- **Codificación One-Hot**\n",
        "\n",
        "El método one-hot encoding se utiliza para convertir características categóricas en una forma adecuada para los modelos de aprendizaje de máquina.\n",
        "\n",
        "Cada categoría se convierte en una columna binaria independiente, lo que posibilita la gestión de datos categóricos sin suponer un orden inherente entre las categorías.\n",
        "\n",
        "En este caso, la sobredimensionalidad no representa un problema ya que el número de categorías no es excesivamente grande. Particularmente, las técnicas XGBoost y Bosques Aleatorios poseen capacidad de gestionar gran número de características eficientemente.\n",
        "\n",
        "**Ensamble de modelos**\n",
        "\n",
        "El ensamble combina las salidas de múltiples modelos para mejorar la precisión y robustez del método predictivo.\n",
        "\n",
        "**Técnicas de ensamble utilizadas**\n",
        "\n",
        "* Votación: Se combinan las predicciones de ambos modelos y se elige la predicción final basada en la mayoría de votos.\n",
        "\n",
        "* Stacking: Se utiliza un modelo meta-aprendizaje para aprender a partir de las predicciones de los modelos base (Bosques Aleatorios y XGBoost).\n"
      ],
      "metadata": {
        "id": "mlYwBD6t7yCi"
      }
    },
    {
      "cell_type": "code",
      "source": [
        "# Montar Google Drive en Google Colab\n",
        "from google.colab import drive\n",
        "drive.mount('/content/drive')"
      ],
      "metadata": {
        "colab": {
          "base_uri": "https://localhost:8080/"
        },
        "id": "sMl0L3O4ve3S",
        "outputId": "bda9ed97-a7ca-4568-efdd-f8054f6b32a3"
      },
      "execution_count": null,
      "outputs": [
        {
          "output_type": "stream",
          "name": "stdout",
          "text": [
            "Mounted at /content/drive\n"
          ]
        }
      ]
    },
    {
      "cell_type": "code",
      "source": [
        "import pandas as pd\n",
        "from sklearn.model_selection import train_test_split, GridSearchCV\n",
        "from sklearn.preprocessing import StandardScaler, OneHotEncoder\n",
        "from sklearn.compose import ColumnTransformer\n",
        "from sklearn.pipeline import Pipeline\n",
        "from xgboost import XGBClassifier\n",
        "from sklearn.metrics import accuracy_score, classification_report\n",
        "\n",
        "# Carga conjunto de datos\n",
        "data = pd.read_csv('/content/drive/MyDrive/Tesis/data/online_shoppers_intention.csv')\n",
        "\n",
        "# Preprocesamiento\n",
        "numeric_features = ['Administrative', 'Administrative_Duration', 'Informational',\n",
        "                    'Informational_Duration', 'ProductRelated', 'ProductRelated_Duration',\n",
        "                    'BounceRates', 'ExitRates', 'PageValues', 'SpecialDay']\n",
        "categorical_features = ['Month', 'OperatingSystems', 'Browser', 'Region', 'TrafficType', 'VisitorType', 'Weekend']\n",
        "\n",
        "preprocessor = ColumnTransformer(\n",
        "    transformers=[\n",
        "        ('num', StandardScaler(), numeric_features),\n",
        "        ('cat', OneHotEncoder(drop='first'), categorical_features)])\n",
        "\n",
        "# División en entrenamiento y prueba\n",
        "X = data.drop('Revenue', axis=1)\n",
        "y = data['Revenue']\n",
        "X_train, X_test, y_train, y_test = train_test_split(X, y, test_size=0.2, random_state=42)\n",
        "\n",
        "# Definición del modelo y el pipeline\n",
        "model = XGBClassifier(random_state=42, use_label_encoder=False, eval_metric='logloss')\n",
        "pipeline = Pipeline([\n",
        "    ('preprocessor', preprocessor),\n",
        "    ('model', model)\n",
        "])\n",
        "\n",
        "# Ajuste de hiperparámetros con búsqueda en grilla\n",
        "param_grid = {\n",
        "    'model__n_estimators': [100, 200, 300],\n",
        "    'model__max_depth': [3, 6, 9],\n",
        "    'model__learning_rate': [0.01, 0.1, 0.2],\n",
        "    'model__subsample': [0.7, 0.8, 0.9]\n",
        "}\n",
        "grid_search = GridSearchCV(pipeline, param_grid, cv=3, scoring='accuracy', verbose=1, n_jobs=-1)\n",
        "grid_search.fit(X_train, y_train)\n",
        "\n",
        "# Evaluación en el conjunto de prueba\n",
        "best_model = grid_search.best_estimator_\n",
        "y_pred = best_model.predict(X_test)\n",
        "accuracy = accuracy_score(y_test, y_pred)\n",
        "classification_rep = classification_report(y_test, y_pred)\n",
        "\n",
        "print(\"Mejores hiperparámetros:\", grid_search.best_params_)\n",
        "print(\"Precisión:\", accuracy)\n",
        "print(\"Informe de clasificación:\\n\", classification_rep)\n"
      ],
      "metadata": {
        "colab": {
          "base_uri": "https://localhost:8080/"
        },
        "id": "jfBc6gpxv0fL",
        "outputId": "4d7e9ead-31b3-4fea-bc4e-b88c33c6961c"
      },
      "execution_count": null,
      "outputs": [
        {
          "output_type": "stream",
          "name": "stdout",
          "text": [
            "Fitting 3 folds for each of 81 candidates, totalling 243 fits\n"
          ]
        },
        {
          "output_type": "stream",
          "name": "stderr",
          "text": [
            "/usr/local/lib/python3.10/dist-packages/sklearn/model_selection/_search.py:952: UserWarning: One or more of the test scores are non-finite: [nan nan nan nan nan nan nan nan nan nan nan nan nan nan nan nan nan nan\n",
            " nan nan nan nan nan nan nan nan nan nan nan nan nan nan nan nan nan nan\n",
            " nan nan nan nan nan nan nan nan nan nan nan nan nan nan nan nan nan nan\n",
            " nan nan nan nan nan nan nan nan nan nan nan nan nan nan nan nan nan nan\n",
            " nan nan nan nan nan nan nan nan nan]\n",
            "  warnings.warn(\n"
          ]
        },
        {
          "output_type": "stream",
          "name": "stdout",
          "text": [
            "Mejores hiperparámetros: {'model__learning_rate': 0.01, 'model__max_depth': 3, 'model__n_estimators': 100, 'model__subsample': 0.7}\n",
            "Precisión: 0.8771289537712895\n",
            "Informe de clasificación:\n",
            "               precision    recall  f1-score   support\n",
            "\n",
            "       False       0.88      0.99      0.93      2055\n",
            "        True       0.87      0.31      0.46       411\n",
            "\n",
            "    accuracy                           0.88      2466\n",
            "   macro avg       0.87      0.65      0.69      2466\n",
            "weighted avg       0.88      0.88      0.85      2466\n",
            "\n"
          ]
        }
      ]
    },
    {
      "cell_type": "markdown",
      "source": [
        "**Pruebas y ajustes**"
      ],
      "metadata": {
        "id": "KePYwm_Iw_Mz"
      }
    },
    {
      "cell_type": "code",
      "source": [
        "import pandas as pd\n",
        "from sklearn.model_selection import train_test_split, GridSearchCV\n",
        "from sklearn.preprocessing import StandardScaler, OneHotEncoder\n",
        "from sklearn.compose import ColumnTransformer\n",
        "from sklearn.pipeline import Pipeline\n",
        "from xgboost import XGBClassifier\n",
        "from sklearn.metrics import accuracy_score, classification_report, roc_auc_score\n",
        "from imblearn.over_sampling import SMOTE\n",
        "from imblearn.pipeline import Pipeline as IMBPipeline\n",
        "\n",
        "# Carga conjunto de datos\n",
        "data = pd.read_csv('/content/drive/MyDrive/Tesis/data/online_shoppers_intention.csv')\n",
        "\n",
        "# Preprocesamiento\n",
        "numeric_features = ['Administrative', 'Administrative_Duration', 'Informational',\n",
        "                    'Informational_Duration', 'ProductRelated', 'ProductRelated_Duration',\n",
        "                    'BounceRates', 'ExitRates', 'PageValues', 'SpecialDay']\n",
        "categorical_features = ['Month', 'OperatingSystems', 'Browser', 'Region', 'TrafficType', 'VisitorType', 'Weekend']\n",
        "\n",
        "preprocessor = ColumnTransformer(\n",
        "    transformers=[\n",
        "        ('num', StandardScaler(), numeric_features),\n",
        "        ('cat', OneHotEncoder(drop='first'), categorical_features)])\n",
        "\n",
        "# División en entrenamiento y prueba\n",
        "X = data.drop('Revenue', axis=1)\n",
        "y = data['Revenue']\n",
        "X_train, X_test, y_train, y_test = train_test_split(X, y, test_size=0.2, random_state=42)\n",
        "\n",
        "# Definición del pipeline con balanceo de clases\n",
        "model = XGBClassifier(random_state=42, use_label_encoder=False, eval_metric='logloss')\n",
        "pipeline = IMBPipeline([\n",
        "    ('preprocessor', preprocessor),\n",
        "    ('sampling', SMOTE(random_state=42)),\n",
        "    ('model', model)\n",
        "])\n",
        "\n",
        "# Ajuste de hiperparámetros con búsqueda en grilla\n",
        "param_grid = {\n",
        "    'model__n_estimators': [100, 200, 300],\n",
        "    'model__max_depth': [3, 6, 9],\n",
        "    'model__learning_rate': [0.01, 0.1, 0.2],\n",
        "    'model__subsample': [0.7, 0.8, 0.9]\n",
        "}\n",
        "grid_search = GridSearchCV(pipeline, param_grid, cv=3, scoring='roc_auc', verbose=1, n_jobs=-1)\n",
        "grid_search.fit(X_train, y_train)\n",
        "\n",
        "# Mejores hiperparámetros\n",
        "print(\"Mejores hiperparámetros:\", grid_search.best_params_)\n",
        "\n",
        "# Evaluación el modelo en el conjunto de prueba\n",
        "best_model = grid_search.best_estimator_\n",
        "y_pred = best_model.predict(X_test)\n",
        "accuracy = accuracy_score(y_test, y_pred)\n",
        "roc_auc = roc_auc_score(y_test, y_pred)\n",
        "classification_rep = classification_report(y_test, y_pred)\n",
        "\n",
        "print(\"Precisión:\", accuracy)\n",
        "print(\"AUC-ROC:\", roc_auc)\n",
        "print(\"Informe de clasificación:\\n\", classification_rep)\n"
      ],
      "metadata": {
        "colab": {
          "base_uri": "https://localhost:8080/"
        },
        "id": "MiWb1G6-xANw",
        "outputId": "0de2aa09-2be7-4caa-bc59-da4ca9a7b54c"
      },
      "execution_count": null,
      "outputs": [
        {
          "output_type": "stream",
          "name": "stdout",
          "text": [
            "Fitting 3 folds for each of 81 candidates, totalling 243 fits\n"
          ]
        },
        {
          "output_type": "stream",
          "name": "stderr",
          "text": [
            "/usr/local/lib/python3.10/dist-packages/sklearn/model_selection/_search.py:952: UserWarning: One or more of the test scores are non-finite: [nan nan nan nan nan nan nan nan nan nan nan nan nan nan nan nan nan nan\n",
            " nan nan nan nan nan nan nan nan nan nan nan nan nan nan nan nan nan nan\n",
            " nan nan nan nan nan nan nan nan nan nan nan nan nan nan nan nan nan nan\n",
            " nan nan nan nan nan nan nan nan nan nan nan nan nan nan nan nan nan nan\n",
            " nan nan nan nan nan nan nan nan nan]\n",
            "  warnings.warn(\n"
          ]
        },
        {
          "output_type": "stream",
          "name": "stdout",
          "text": [
            "Mejores hiperparámetros: {'model__learning_rate': 0.01, 'model__max_depth': 3, 'model__n_estimators': 100, 'model__subsample': 0.7}\n",
            "Precisión: 0.8710462287104623\n",
            "AUC-ROC: 0.8437956204379562\n",
            "Informe de clasificación:\n",
            "               precision    recall  f1-score   support\n",
            "\n",
            "       False       0.96      0.88      0.92      2055\n",
            "        True       0.58      0.80      0.67       411\n",
            "\n",
            "    accuracy                           0.87      2466\n",
            "   macro avg       0.77      0.84      0.80      2466\n",
            "weighted avg       0.89      0.87      0.88      2466\n",
            "\n"
          ]
        }
      ]
    },
    {
      "cell_type": "markdown",
      "source": [
        "ajuste"
      ],
      "metadata": {
        "id": "YTR2Q1fQ0DWy"
      }
    },
    {
      "cell_type": "code",
      "source": [
        "import pandas as pd\n",
        "from sklearn.model_selection import train_test_split, GridSearchCV\n",
        "from sklearn.preprocessing import StandardScaler, OneHotEncoder\n",
        "from sklearn.compose import ColumnTransformer\n",
        "from sklearn.pipeline import Pipeline\n",
        "from xgboost import XGBClassifier\n",
        "from sklearn.metrics import accuracy_score, classification_report, roc_auc_score, precision_recall_curve\n",
        "from imblearn.over_sampling import SMOTE\n",
        "from imblearn.pipeline import Pipeline as IMBPipeline\n",
        "import numpy as np\n",
        "\n",
        "# Carga conjunto de datos\n",
        "data = pd.read_csv('/content/drive/MyDrive/Tesis/data/online_shoppers_intention.csv')\n",
        "\n",
        "# Ingeniería de características de comportamiento de usuarios # En este caso se busca relacionar la duración vs producto\n",
        "data['New_Feature'] = data['ProductRelated_Duration'] / (data['ProductRelated'] + 1)\n",
        "\n",
        "# Preprocesamiento\n",
        "numeric_features = ['Administrative', 'Administrative_Duration', 'Informational',\n",
        "                    'Informational_Duration', 'ProductRelated', 'ProductRelated_Duration',\n",
        "                    'BounceRates', 'ExitRates', 'PageValues', 'SpecialDay', 'New_Feature']  # Añadir la nueva característica\n",
        "categorical_features = ['Month', 'OperatingSystems', 'Browser', 'Region', 'TrafficType', 'VisitorType', 'Weekend']\n",
        "\n",
        "preprocessor = ColumnTransformer(\n",
        "    transformers=[\n",
        "        ('num', StandardScaler(), numeric_features),\n",
        "        ('cat', OneHotEncoder(drop='first'), categorical_features)])\n",
        "\n",
        "# División en entrenamiento y prueba\n",
        "X = data.drop('Revenue', axis=1)\n",
        "y = data['Revenue']\n",
        "X_train, X_test, y_train, y_test = train_test_split(X, y, test_size=0.2, random_state=42)\n",
        "\n",
        "# Definición del pipeline incluyendo balanceo de clases\n",
        "model = XGBClassifier(random_state=42, use_label_encoder=False, eval_metric='logloss')\n",
        "pipeline = IMBPipeline([\n",
        "    ('preprocessor', preprocessor),\n",
        "    ('sampling', SMOTE(random_state=42)),\n",
        "    ('model', model)\n",
        "])\n",
        "\n",
        "# Ajuste de hiperparámetros con búsqueda en grilla\n",
        "param_grid = {\n",
        "    'model__n_estimators': [50, 100, 150],\n",
        "    'model__max_depth': [3, 4, 5],\n",
        "    'model__learning_rate': [0.05, 0.1, 0.15],\n",
        "    'model__subsample': [0.6, 0.7, 0.8],\n",
        "    'model__colsample_bytree': [0.6, 0.7, 0.8]\n",
        "}\n",
        "grid_search = GridSearchCV(pipeline, param_grid, cv=3, scoring='roc_auc', verbose=1, n_jobs=-1)\n",
        "grid_search.fit(X_train, y_train)\n",
        "\n",
        "# hiperparámetros\n",
        "print(\"Mejores hiperparámetros:\", grid_search.best_params_)\n",
        "\n",
        "# Evaluación el modelo en el conjunto de prueba\n",
        "best_model = grid_search.best_estimator_\n",
        "\n",
        "# Obtener probabilidades y calcular el umbral\n",
        "y_scores = best_model.predict_proba(X_test)[:, 1]\n",
        "precisions, recalls, thresholds = precision_recall_curve(y_test, y_scores)\n",
        "optimal_idx = np.argmax(precisions + recalls)\n",
        "optimal_threshold = thresholds[optimal_idx]\n",
        "print(\"Umbral óptimo:\", optimal_threshold)\n",
        "\n",
        "# Aplicar umbral\n",
        "y_pred_optimal = (y_scores >= optimal_threshold).astype(int)\n",
        "\n",
        "# Calcular métricas\n",
        "accuracy = accuracy_score(y_test, y_pred_optimal)\n",
        "roc_auc = roc_auc_score(y_test, y_pred_optimal)\n",
        "classification_rep = classification_report(y_test, y_pred_optimal)\n",
        "\n",
        "print(\"Precisión:\", accuracy)\n",
        "print(\"AUC-ROC:\", roc_auc)\n",
        "print(\"Informe de clasificación:\\n\", classification_rep)\n"
      ],
      "metadata": {
        "colab": {
          "base_uri": "https://localhost:8080/"
        },
        "id": "14qyTHyR0FRA",
        "outputId": "397e4fcb-cd30-4512-d579-ed7b88f19902"
      },
      "execution_count": null,
      "outputs": [
        {
          "output_type": "stream",
          "name": "stdout",
          "text": [
            "Fitting 3 folds for each of 243 candidates, totalling 729 fits\n"
          ]
        },
        {
          "output_type": "stream",
          "name": "stderr",
          "text": [
            "/usr/local/lib/python3.10/dist-packages/sklearn/model_selection/_search.py:952: UserWarning: One or more of the test scores are non-finite: [nan nan nan nan nan nan nan nan nan nan nan nan nan nan nan nan nan nan\n",
            " nan nan nan nan nan nan nan nan nan nan nan nan nan nan nan nan nan nan\n",
            " nan nan nan nan nan nan nan nan nan nan nan nan nan nan nan nan nan nan\n",
            " nan nan nan nan nan nan nan nan nan nan nan nan nan nan nan nan nan nan\n",
            " nan nan nan nan nan nan nan nan nan nan nan nan nan nan nan nan nan nan\n",
            " nan nan nan nan nan nan nan nan nan nan nan nan nan nan nan nan nan nan\n",
            " nan nan nan nan nan nan nan nan nan nan nan nan nan nan nan nan nan nan\n",
            " nan nan nan nan nan nan nan nan nan nan nan nan nan nan nan nan nan nan\n",
            " nan nan nan nan nan nan nan nan nan nan nan nan nan nan nan nan nan nan\n",
            " nan nan nan nan nan nan nan nan nan nan nan nan nan nan nan nan nan nan\n",
            " nan nan nan nan nan nan nan nan nan nan nan nan nan nan nan nan nan nan\n",
            " nan nan nan nan nan nan nan nan nan nan nan nan nan nan nan nan nan nan\n",
            " nan nan nan nan nan nan nan nan nan nan nan nan nan nan nan nan nan nan\n",
            " nan nan nan nan nan nan nan nan nan]\n",
            "  warnings.warn(\n"
          ]
        },
        {
          "output_type": "stream",
          "name": "stdout",
          "text": [
            "Mejores hiperparámetros: {'model__colsample_bytree': 0.6, 'model__learning_rate': 0.05, 'model__max_depth': 3, 'model__n_estimators': 50, 'model__subsample': 0.6}\n",
            "Umbral óptimo: 0.54847294\n",
            "Precisión: 0.8824006488240065\n",
            "AUC-ROC: 0.8457420924574209\n",
            "Informe de clasificación:\n",
            "               precision    recall  f1-score   support\n",
            "\n",
            "       False       0.96      0.90      0.93      2055\n",
            "        True       0.61      0.79      0.69       411\n",
            "\n",
            "    accuracy                           0.88      2466\n",
            "   macro avg       0.78      0.85      0.81      2466\n",
            "weighted avg       0.90      0.88      0.89      2466\n",
            "\n"
          ]
        }
      ]
    },
    {
      "cell_type": "markdown",
      "source": [
        "ajuste"
      ],
      "metadata": {
        "id": "rDyLizf-2-VD"
      }
    },
    {
      "cell_type": "code",
      "source": [
        "import pandas as pd\n",
        "from sklearn.model_selection import train_test_split, GridSearchCV\n",
        "from sklearn.preprocessing import StandardScaler, OneHotEncoder\n",
        "from sklearn.compose import ColumnTransformer\n",
        "from xgboost import XGBClassifier\n",
        "from sklearn.metrics import accuracy_score, classification_report, roc_auc_score\n",
        "from imblearn.over_sampling import SMOTE\n",
        "from imblearn.pipeline import Pipeline as IMBPipeline\n",
        "\n",
        "# Carga conjunto de datos\n",
        "data = pd.read_csv('/content/drive/MyDrive/Tesis/data/online_shoppers_intention.csv')\n",
        "\n",
        "# Ingeniería de características\n",
        "data['New_Feature'] = data['ProductRelated_Duration'] / (data['ProductRelated'] + 1)\n",
        "\n",
        "# Preprocesamiento\n",
        "numeric_features = ['Administrative', 'Administrative_Duration', 'Informational',\n",
        "                    'Informational_Duration', 'ProductRelated', 'ProductRelated_Duration',\n",
        "                    'BounceRates', 'ExitRates', 'PageValues', 'SpecialDay', 'New_Feature']\n",
        "categorical_features = ['Month', 'OperatingSystems', 'Browser', 'Region', 'TrafficType', 'VisitorType', 'Weekend']\n",
        "\n",
        "preprocessor = ColumnTransformer(\n",
        "    transformers=[\n",
        "        ('num', StandardScaler(), numeric_features),\n",
        "        ('cat', OneHotEncoder(drop='first'), categorical_features)])\n",
        "\n",
        "# División en entrenamiento y prueba\n",
        "X = data.drop('Revenue', axis=1)\n",
        "y = data['Revenue']\n",
        "X_train, X_test, y_train, y_test = train_test_split(X, y, test_size=0.2, random_state=42)\n",
        "\n",
        "# Modelo XGBoost con ajuste de hiperparámetros\n",
        "model = XGBClassifier(random_state=42, use_label_encoder=False, eval_metric='logloss')\n",
        "\n",
        "pipeline = IMBPipeline([\n",
        "    ('preprocessor', preprocessor),\n",
        "    ('sampling', SMOTE(random_state=42)),\n",
        "    ('model', model)\n",
        "])\n",
        "\n",
        "# Ajuste de hiperparámetros con búsqueda en grilla\n",
        "param_grid = {\n",
        "    'model__n_estimators': [100, 150, 200],\n",
        "    'model__max_depth': [3, 5, 7],\n",
        "    'model__learning_rate': [0.01, 0.05, 0.1],\n",
        "    'model__subsample': [0.6, 0.8, 1.0],\n",
        "    'model__colsample_bytree': [0.6, 0.8, 1.0]\n",
        "}\n",
        "grid_search = GridSearchCV(pipeline, param_grid, cv=3, scoring='roc_auc', verbose=1, n_jobs=-1)\n",
        "grid_search.fit(X_train, y_train)\n",
        "\n",
        "# Mejores hiperparámetros\n",
        "print(\"Mejores hiperparámetros:\", grid_search.best_params_)\n",
        "\n",
        "# Evaluación del modelo\n",
        "best_model = grid_search.best_estimator_\n",
        "y_pred = best_model.predict(X_test)\n",
        "accuracy = accuracy_score(y_test, y_pred)\n",
        "roc_auc = roc_auc_score(y_test, y_pred)\n",
        "classification_rep = classification_report(y_test, y_pred)\n",
        "\n",
        "print(\"Precisión:\", accuracy)\n",
        "print(\"AUC-ROC:\", roc_auc)\n",
        "print(\"Informe de clasificación:\\n\", classification_rep)\n"
      ],
      "metadata": {
        "colab": {
          "base_uri": "https://localhost:8080/"
        },
        "id": "cJCPsDjh2_KM",
        "outputId": "191535fb-5513-43bb-c769-f5b63d525179"
      },
      "execution_count": null,
      "outputs": [
        {
          "output_type": "stream",
          "name": "stdout",
          "text": [
            "Fitting 3 folds for each of 243 candidates, totalling 729 fits\n"
          ]
        },
        {
          "output_type": "stream",
          "name": "stderr",
          "text": [
            "/usr/local/lib/python3.10/dist-packages/sklearn/model_selection/_search.py:952: UserWarning: One or more of the test scores are non-finite: [nan nan nan nan nan nan nan nan nan nan nan nan nan nan nan nan nan nan\n",
            " nan nan nan nan nan nan nan nan nan nan nan nan nan nan nan nan nan nan\n",
            " nan nan nan nan nan nan nan nan nan nan nan nan nan nan nan nan nan nan\n",
            " nan nan nan nan nan nan nan nan nan nan nan nan nan nan nan nan nan nan\n",
            " nan nan nan nan nan nan nan nan nan nan nan nan nan nan nan nan nan nan\n",
            " nan nan nan nan nan nan nan nan nan nan nan nan nan nan nan nan nan nan\n",
            " nan nan nan nan nan nan nan nan nan nan nan nan nan nan nan nan nan nan\n",
            " nan nan nan nan nan nan nan nan nan nan nan nan nan nan nan nan nan nan\n",
            " nan nan nan nan nan nan nan nan nan nan nan nan nan nan nan nan nan nan\n",
            " nan nan nan nan nan nan nan nan nan nan nan nan nan nan nan nan nan nan\n",
            " nan nan nan nan nan nan nan nan nan nan nan nan nan nan nan nan nan nan\n",
            " nan nan nan nan nan nan nan nan nan nan nan nan nan nan nan nan nan nan\n",
            " nan nan nan nan nan nan nan nan nan nan nan nan nan nan nan nan nan nan\n",
            " nan nan nan nan nan nan nan nan nan]\n",
            "  warnings.warn(\n"
          ]
        },
        {
          "output_type": "stream",
          "name": "stdout",
          "text": [
            "Mejores hiperparámetros: {'model__colsample_bytree': 0.6, 'model__learning_rate': 0.01, 'model__max_depth': 3, 'model__n_estimators': 100, 'model__subsample': 0.6}\n",
            "Precisión: 0.8706407137064072\n",
            "AUC-ROC: 0.8425790754257907\n",
            "Informe de clasificación:\n",
            "               precision    recall  f1-score   support\n",
            "\n",
            "       False       0.96      0.88      0.92      2055\n",
            "        True       0.58      0.80      0.67       411\n",
            "\n",
            "    accuracy                           0.87      2466\n",
            "   macro avg       0.77      0.84      0.80      2466\n",
            "weighted avg       0.89      0.87      0.88      2466\n",
            "\n"
          ]
        }
      ]
    },
    {
      "cell_type": "markdown",
      "source": [
        "AJUSTE"
      ],
      "metadata": {
        "id": "_CZ5Zw8G8944"
      }
    },
    {
      "cell_type": "markdown",
      "source": [
        "**ajuste**"
      ],
      "metadata": {
        "id": "3iFUO7YeSNO8"
      }
    },
    {
      "cell_type": "code",
      "source": [
        "!pip install scikit-optimize\n"
      ],
      "metadata": {
        "colab": {
          "base_uri": "https://localhost:8080/"
        },
        "id": "QppV2ElQm1Df",
        "outputId": "bfb209f3-b0eb-4108-d9a0-23e990966374"
      },
      "execution_count": null,
      "outputs": [
        {
          "output_type": "stream",
          "name": "stdout",
          "text": [
            "Requirement already satisfied: scikit-optimize in /usr/local/lib/python3.10/dist-packages (0.9.0)\n",
            "Requirement already satisfied: joblib>=0.11 in /usr/local/lib/python3.10/dist-packages (from scikit-optimize) (1.3.2)\n",
            "Requirement already satisfied: pyaml>=16.9 in /usr/local/lib/python3.10/dist-packages (from scikit-optimize) (23.12.0)\n",
            "Requirement already satisfied: numpy>=1.13.3 in /usr/local/lib/python3.10/dist-packages (from scikit-optimize) (1.23.5)\n",
            "Requirement already satisfied: scipy>=0.19.1 in /usr/local/lib/python3.10/dist-packages (from scikit-optimize) (1.11.4)\n",
            "Requirement already satisfied: scikit-learn>=0.20.0 in /usr/local/lib/python3.10/dist-packages (from scikit-optimize) (1.2.2)\n",
            "Requirement already satisfied: PyYAML in /usr/local/lib/python3.10/dist-packages (from pyaml>=16.9->scikit-optimize) (6.0.1)\n",
            "Requirement already satisfied: threadpoolctl>=2.0.0 in /usr/local/lib/python3.10/dist-packages (from scikit-learn>=0.20.0->scikit-optimize) (3.2.0)\n"
          ]
        }
      ]
    },
    {
      "cell_type": "code",
      "source": [
        "import pandas as pd\n",
        "from sklearn.model_selection import train_test_split\n",
        "from sklearn.preprocessing import StandardScaler, OneHotEncoder\n",
        "from sklearn.compose import ColumnTransformer\n",
        "from sklearn.pipeline import Pipeline\n",
        "from xgboost import XGBClassifier\n",
        "from sklearn.metrics import accuracy_score, classification_report\n",
        "from skopt import BayesSearchCV\n",
        "from skopt.space import Real, Categorical, Integer\n",
        "\n",
        "# Carga conjunto de datos\n",
        "data = pd.read_csv('/content/drive/MyDrive/Tesis/data/online_shoppers_intention.csv')\n",
        "\n",
        "# Preprocesamiento\n",
        "numeric_features = ['Administrative', 'Administrative_Duration', 'Informational',\n",
        "                    'Informational_Duration', 'ProductRelated', 'ProductRelated_Duration',\n",
        "                    'BounceRates', 'ExitRates', 'PageValues', 'SpecialDay']\n",
        "categorical_features = ['Month', 'OperatingSystems', 'Browser', 'Region', 'TrafficType', 'VisitorType', 'Weekend']\n",
        "\n",
        "preprocessor = ColumnTransformer(\n",
        "    transformers=[\n",
        "        ('num', StandardScaler(), numeric_features),\n",
        "        ('cat', OneHotEncoder(drop='first', handle_unknown='ignore'), categorical_features)])\n",
        "\n",
        "# División en entrenamiento y prueba\n",
        "X = data.drop('Revenue', axis=1)\n",
        "y = data['Revenue']\n",
        "X_train, X_test, y_train, y_test = train_test_split(X, y, test_size=0.2, random_state=42)\n",
        "\n",
        "# Definición del modelo y el pipeline\n",
        "model = XGBClassifier(use_label_encoder=False, eval_metric='logloss')\n",
        "pipeline = Pipeline([\n",
        "    ('preprocessor', preprocessor),\n",
        "    ('model', model)\n",
        "])\n",
        "\n",
        "# hiperparámetros espacio para optimización bayesiana\n",
        "search_space = {\n",
        "    'model__n_estimators': Integer(50, 300),\n",
        "    'model__max_depth': Integer(3, 10),\n",
        "    'model__learning_rate': Real(0.01, 0.3, 'log-uniform'),\n",
        "    'model__subsample': Real(0.5, 1.0),\n",
        "    'model__colsample_bytree': Real(0.5, 1.0),\n",
        "    'model__min_child_weight': Integer(1, 10)\n",
        "}\n",
        "\n",
        "# Optimización bayesiana\n",
        "opt = BayesSearchCV(pipeline, search_space, n_iter=32, scoring='accuracy', cv=3, n_jobs=-1, random_state=42)\n",
        "opt.fit(X_train, y_train)\n",
        "\n",
        "# Mejores hiperparámetros y evaluación del modelo\n",
        "best_model = opt.best_estimator_\n",
        "y_pred = best_model.predict(X_test)\n",
        "accuracy = accuracy_score(y_test, y_pred)\n",
        "classification_rep = classification_report(y_test, y_pred)\n",
        "\n",
        "print(\"Mejores hiperparámetros:\", opt.best_params_)\n",
        "print(\"Precisión:\", accuracy)\n",
        "print(\"Informe de clasificación:\\n\", classification_rep)\n"
      ],
      "metadata": {
        "colab": {
          "base_uri": "https://localhost:8080/"
        },
        "id": "PcUQOu1jnSnP",
        "outputId": "603628f3-22cb-4b1f-a692-677b6602f089"
      },
      "execution_count": null,
      "outputs": [
        {
          "output_type": "stream",
          "name": "stdout",
          "text": [
            "Mejores hiperparámetros: OrderedDict([('model__colsample_bytree', 0.5), ('model__learning_rate', 0.12177031250602108), ('model__max_depth', 3), ('model__min_child_weight', 10), ('model__n_estimators', 50), ('model__subsample', 1.0)])\n",
            "Precisión: 0.8925385239253852\n",
            "Informe de clasificación:\n",
            "               precision    recall  f1-score   support\n",
            "\n",
            "       False       0.92      0.96      0.94      2055\n",
            "        True       0.73      0.57      0.64       411\n",
            "\n",
            "    accuracy                           0.89      2466\n",
            "   macro avg       0.82      0.76      0.79      2466\n",
            "weighted avg       0.89      0.89      0.89      2466\n",
            "\n"
          ]
        }
      ]
    },
    {
      "cell_type": "code",
      "source": [
        "import pandas as pd\n",
        "from sklearn.model_selection import train_test_split, StratifiedKFold\n",
        "from sklearn.preprocessing import StandardScaler, OneHotEncoder\n",
        "from sklearn.compose import ColumnTransformer\n",
        "from xgboost import XGBClassifier\n",
        "from sklearn.metrics import accuracy_score, classification_report, roc_auc_score\n",
        "from skopt import BayesSearchCV\n",
        "from skopt.space import Real, Categorical, Integer\n",
        "from imblearn.over_sampling import ADASYN\n",
        "from imblearn.pipeline import Pipeline as IMBPipeline\n",
        "\n",
        "# Carga conjunto de datos\n",
        "data = pd.read_csv('/content/drive/MyDrive/Tesis/data/online_shoppers_intention.csv')\n",
        "\n",
        "# Preprocesamiento\n",
        "numeric_features = ['Administrative', 'Administrative_Duration', 'Informational',\n",
        "                    'Informational_Duration', 'ProductRelated', 'ProductRelated_Duration',\n",
        "                    'BounceRates', 'ExitRates', 'PageValues', 'SpecialDay']\n",
        "categorical_features = ['Month', 'OperatingSystems', 'Browser', 'Region', 'TrafficType', 'VisitorType', 'Weekend']\n",
        "\n",
        "preprocessor = ColumnTransformer(\n",
        "    transformers=[\n",
        "        ('num', StandardScaler(), numeric_features),\n",
        "        ('cat', OneHotEncoder(drop='first', handle_unknown='ignore'), categorical_features)])\n",
        "\n",
        "# División en entrenamiento y prueba\n",
        "X = data.drop('Revenue', axis=1)\n",
        "y = data['Revenue']\n",
        "X_train, X_test, y_train, y_test = train_test_split(X, y, test_size=0.2, random_state=42)\n",
        "\n",
        "# Modelo XGBoost\n",
        "model = XGBClassifier(use_label_encoder=False, eval_metric='logloss')\n",
        "\n",
        "# Pipeline con ADASYN para el balanceo de clases\n",
        "pipeline = IMBPipeline([\n",
        "    ('preprocessor', preprocessor),\n",
        "    ('sampling', ADASYN(random_state=42)),\n",
        "    ('model', model)\n",
        "])\n",
        "\n",
        "# Hiperparámetros para la optimización bayesiana\n",
        "search_space = {\n",
        "    'model__n_estimators': Integer(100, 500),\n",
        "    'model__max_depth': Integer(3, 10),\n",
        "    'model__learning_rate': Real(0.01, 0.2, 'log-uniform'),\n",
        "    'model__subsample': Real(0.5, 1.0),\n",
        "    'model__colsample_bytree': Real(0.5, 1.0),\n",
        "    'model__min_child_weight': Integer(1, 10)\n",
        "}\n",
        "\n",
        "# Optimización bayesiana con validación cruzada estratificada\n",
        "stratified_kfold = StratifiedKFold(n_splits=5, shuffle=True, random_state=42)\n",
        "opt = BayesSearchCV(pipeline, search_space, n_iter=40, scoring='accuracy', cv=stratified_kfold, n_jobs=-1, random_state=42)\n",
        "opt.fit(X_train, y_train)\n",
        "\n",
        "# Mejores hiperparámetros y evaluación del modelo\n",
        "best_model = opt.best_estimator_\n",
        "y_pred = best_model.predict(X_test)\n",
        "accuracy = accuracy_score(y_test, y_pred)\n",
        "classification_rep = classification_report(y_test, y_pred)\n",
        "\n",
        "print(\"Mejores hiperparámetros:\", opt.best_params_)\n",
        "print(\"Precisión:\", accuracy)\n",
        "print(\"Informe de clasificación:\\n\", classification_rep)\n"
      ],
      "metadata": {
        "colab": {
          "base_uri": "https://localhost:8080/"
        },
        "id": "8xzi28IzoisQ",
        "outputId": "7b1b15aa-37c6-41a7-d98c-c598295fc8d5"
      },
      "execution_count": null,
      "outputs": [
        {
          "output_type": "stream",
          "name": "stdout",
          "text": [
            "Mejores hiperparámetros: OrderedDict([('model__colsample_bytree', 0.6900418660423935), ('model__learning_rate', 0.10206878797398077), ('model__max_depth', 6), ('model__min_child_weight', 3), ('model__n_estimators', 209), ('model__subsample', 1.0)])\n",
            "Precisión: 0.8957826439578265\n",
            "Informe de clasificación:\n",
            "               precision    recall  f1-score   support\n",
            "\n",
            "       False       0.93      0.95      0.94      2055\n",
            "        True       0.71      0.64      0.67       411\n",
            "\n",
            "    accuracy                           0.90      2466\n",
            "   macro avg       0.82      0.79      0.80      2466\n",
            "weighted avg       0.89      0.90      0.89      2466\n",
            "\n"
          ]
        }
      ]
    },
    {
      "cell_type": "markdown",
      "source": [
        "ad"
      ],
      "metadata": {
        "id": "7y9ukpdSujRZ"
      }
    },
    {
      "cell_type": "code",
      "source": [
        "import pandas as pd\n",
        "from sklearn.model_selection import train_test_split\n",
        "from sklearn.preprocessing import StandardScaler, OneHotEncoder\n",
        "from sklearn.compose import ColumnTransformer\n",
        "from sklearn.pipeline import Pipeline\n",
        "from xgboost import XGBClassifier\n",
        "from sklearn.metrics import accuracy_score, classification_report\n",
        "from skopt import BayesSearchCV\n",
        "from skopt.space import Real, Categorical, Integer\n",
        "from imblearn.over_sampling import ADASYN\n",
        "from imblearn.pipeline import Pipeline as IMBPipeline\n",
        "\n",
        "# Carga conjunto de datos\n",
        "data = pd.read_csv('/content/drive/MyDrive/Tesis/data/online_shoppers_intention.csv')\n",
        "\n",
        "# Ingeniería de características avanzada\n",
        "data['Total_Duration'] = data['Administrative_Duration'] + data['Informational_Duration'] + data['ProductRelated_Duration']\n",
        "data['Average_Duration'] = data['Total_Duration'] / (data['Administrative'] + data['Informational'] + data['ProductRelated'] + 1)\n",
        "data['Bounce_Exit_Rate'] = data['BounceRates'] * data['ExitRates']\n",
        "data['Administrative_Binary'] = (data['Administrative'] > 0).astype(int)\n",
        "\n",
        "# Preprocesamiento\n",
        "numeric_features = ['Administrative', 'Administrative_Duration', 'Informational',\n",
        "                    'Informational_Duration', 'ProductRelated', 'ProductRelated_Duration',\n",
        "                    'BounceRates', 'ExitRates', 'PageValues', 'SpecialDay',\n",
        "                    'Total_Duration', 'Average_Duration', 'Bounce_Exit_Rate', 'Administrative_Binary']\n",
        "categorical_features = ['Month', 'OperatingSystems', 'Browser', 'Region', 'TrafficType', 'VisitorType', 'Weekend']\n",
        "\n",
        "preprocessor = ColumnTransformer(\n",
        "    transformers=[\n",
        "        ('num', StandardScaler(), numeric_features),\n",
        "        ('cat', OneHotEncoder(drop='first', handle_unknown='ignore'), categorical_features)])\n",
        "\n",
        "# División en entrenamiento y prueba\n",
        "X = data.drop('Revenue', axis=1)\n",
        "y = data['Revenue']\n",
        "X_train, X_test, y_train, y_test = train_test_split(X, y, test_size=0.2, random_state=42)\n",
        "\n",
        "# Modelo XGBoost\n",
        "model = XGBClassifier(use_label_encoder=False, eval_metric='logloss')\n",
        "\n",
        "# Pipeline con ADASYN para el balanceo de clases\n",
        "pipeline = IMBPipeline([\n",
        "    ('preprocessor', preprocessor),\n",
        "    ('sampling', ADASYN(random_state=42)),\n",
        "    ('model', model)\n",
        "])\n",
        "\n",
        "# Hiperparámetros para la optimización bayesiana\n",
        "search_space = {\n",
        "    'model__n_estimators': Integer(100, 500),\n",
        "    'model__max_depth': Integer(3, 10),\n",
        "    'model__learning_rate': Real(0.01, 0.2, 'log-uniform'),\n",
        "    'model__subsample': Real(0.5, 1.0),\n",
        "    'model__colsample_bytree': Real(0.5, 1.0),\n",
        "    'model__min_child_weight': Integer(1, 10)\n",
        "}\n",
        "\n",
        "# Optimización bayesiana con validación cruzada estratificada\n",
        "stratified_kfold = StratifiedKFold(n_splits=5, shuffle=True, random_state=42)\n",
        "opt = BayesSearchCV(pipeline, search_space, n_iter=40, scoring='accuracy', cv=stratified_kfold, n_jobs=-1, random_state=42)\n",
        "opt.fit(X_train, y_train)\n",
        "\n",
        "# Mejores hiperparámetros y evaluación del modelo\n",
        "best_model = opt.best_estimator_\n",
        "y_pred = best_model.predict(X_test)\n",
        "accuracy = accuracy_score(y_test, y_pred)\n",
        "classification_rep = classification_report(y_test, y_pred)\n",
        "\n",
        "print(\"Mejores hiperparámetros:\", opt.best_params_)\n",
        "print(\"Precisión:\", accuracy)\n",
        "print(\"Informe de clasificación:\\n\", classification_rep)\n"
      ],
      "metadata": {
        "colab": {
          "base_uri": "https://localhost:8080/"
        },
        "id": "JyUievnJujtH",
        "outputId": "6fda50f3-0224-4b9c-bbdb-f2a28b40745f"
      },
      "execution_count": null,
      "outputs": [
        {
          "output_type": "stream",
          "name": "stdout",
          "text": [
            "Mejores hiperparámetros: OrderedDict([('model__colsample_bytree', 0.5261077767011795), ('model__learning_rate', 0.04894780838400718), ('model__max_depth', 4), ('model__min_child_weight', 1), ('model__n_estimators', 500), ('model__subsample', 1.0)])\n",
            "Precisión: 0.8953771289537713\n",
            "Informe de clasificación:\n",
            "               precision    recall  f1-score   support\n",
            "\n",
            "       False       0.93      0.95      0.94      2055\n",
            "        True       0.70      0.65      0.67       411\n",
            "\n",
            "    accuracy                           0.90      2466\n",
            "   macro avg       0.82      0.80      0.81      2466\n",
            "weighted avg       0.89      0.90      0.89      2466\n",
            "\n"
          ]
        }
      ]
    },
    {
      "cell_type": "markdown",
      "source": [
        "#**MÉTODO DE PREDICCIÓN**"
      ],
      "metadata": {
        "id": "N6UAhKYm1g8i"
      }
    },
    {
      "cell_type": "code",
      "source": [
        "import pandas as pd\n",
        "from sklearn.model_selection import train_test_split\n",
        "from sklearn.preprocessing import StandardScaler, OneHotEncoder\n",
        "from sklearn.compose import ColumnTransformer\n",
        "from sklearn.ensemble import RandomForestClassifier, VotingClassifier\n",
        "from xgboost import XGBClassifier\n",
        "from sklearn.metrics import accuracy_score, classification_report\n",
        "from imblearn.pipeline import Pipeline as IMBPipeline\n",
        "from imblearn.over_sampling import ADASYN\n",
        "\n",
        "# Carga del conjunto de datos\n",
        "file_path = '/content/drive/MyDrive/Tesis/data/online_shoppers_intention.csv'\n",
        "data = pd.read_csv(file_path)\n",
        "\n",
        "# Ingeniería de características avanzada\n",
        "data['Total_Duration'] = data['Administrative_Duration'] + data['Informational_Duration'] + data['ProductRelated_Duration']\n",
        "data['Total_Pages'] = data['Administrative'] + data['Informational'] + data['ProductRelated']\n",
        "data['Pages_Per_Duration'] = data['Total_Pages'] / (data['Total_Duration'] + 1)\n",
        "data['Admin_Duration_Ratio'] = data['Administrative_Duration'] / (data['Total_Duration'] + 1)\n",
        "data['Info_Duration_Ratio'] = data['Informational_Duration'] / (data['Total_Duration'] + 1)\n",
        "data['Product_Duration_Ratio'] = data['ProductRelated_Duration'] / (data['Total_Duration'] + 1)\n",
        "data['Page_Bounce_Exit_Ratio'] = data['PageValues'] * data['BounceRates'] * data['ExitRates']\n",
        "data['Admin_Info_Ratio'] = data['Administrative_Duration'] / (data['Informational_Duration'] + 1)\n",
        "\n",
        "# Definición de características numéricas y categóricas\n",
        "numeric_features = ['Administrative', 'Administrative_Duration', 'Informational', 'Informational_Duration',\n",
        "                    'ProductRelated', 'ProductRelated_Duration', 'BounceRates', 'ExitRates',\n",
        "                    'PageValues', 'SpecialDay', 'Total_Duration', 'Total_Pages', 'Pages_Per_Duration',\n",
        "                    'Admin_Duration_Ratio', 'Info_Duration_Ratio', 'Product_Duration_Ratio',\n",
        "                    'Page_Bounce_Exit_Ratio', 'Admin_Info_Ratio']\n",
        "categorical_features = ['Month', 'OperatingSystems', 'Browser', 'Region', 'TrafficType',\n",
        "                        'VisitorType', 'Weekend']\n",
        "\n",
        "# División en entrenamiento y prueba\n",
        "X = data.drop('Revenue', axis=1)\n",
        "y = data['Revenue']\n",
        "X_train, X_test, y_train, y_test = train_test_split(X, y, test_size=0.2, random_state=42)\n",
        "\n",
        "# Preprocesamiento\n",
        "preprocessor = ColumnTransformer(\n",
        "    transformers=[\n",
        "        ('num', StandardScaler(), numeric_features),\n",
        "        ('cat', OneHotEncoder(drop='first', handle_unknown='ignore'), categorical_features)])\n",
        "\n",
        "# Crear modelos individuales\n",
        "model_rf = RandomForestClassifier(n_estimators=100, random_state=42)\n",
        "model_xgb = XGBClassifier(use_label_encoder=False, eval_metric='logloss', random_state=42)\n",
        "\n",
        "# Ensamblaje de modelos usando VotingClassifier\n",
        "ensemble = VotingClassifier(\n",
        "    estimators=[('rf', model_rf), ('xgb', model_xgb)],\n",
        "    voting='soft'\n",
        ")\n",
        "\n",
        "# Pipeline con ensamblaje y ADASYN para el balanceo de clases\n",
        "pipeline = IMBPipeline([\n",
        "    ('preprocessor', preprocessor),\n",
        "    ('sampling', ADASYN(random_state=42)),\n",
        "    ('ensemble', ensemble)\n",
        "])\n",
        "\n",
        "# Entrenamiento y evaluación del modelo\n",
        "pipeline.fit(X_train, y_train)\n",
        "y_pred = pipeline.predict(X_test)\n",
        "accuracy = accuracy_score(y_test, y_pred)\n",
        "classification_rep = classification_report(y_test, y_pred)\n",
        "\n",
        "print(\"Precisión:\", accuracy)\n",
        "print(\"Informe de clasificación:\\n\", classification_rep)"
      ],
      "metadata": {
        "colab": {
          "base_uri": "https://localhost:8080/"
        },
        "id": "tQJhhLKOwiyE",
        "outputId": "b527753b-263a-414d-81ca-58abf3f7aa96"
      },
      "execution_count": null,
      "outputs": [
        {
          "output_type": "stream",
          "name": "stdout",
          "text": [
            "Precisión: 0.8913219789132197\n",
            "Informe de clasificación:\n",
            "               precision    recall  f1-score   support\n",
            "\n",
            "       False       0.93      0.94      0.94      2055\n",
            "        True       0.68      0.65      0.67       411\n",
            "\n",
            "    accuracy                           0.89      2466\n",
            "   macro avg       0.81      0.79      0.80      2466\n",
            "weighted avg       0.89      0.89      0.89      2466\n",
            "\n"
          ]
        }
      ]
    },
    {
      "cell_type": "markdown",
      "source": [
        "**Ajuste Método**"
      ],
      "metadata": {
        "id": "MzEs5-QwKaDj"
      }
    },
    {
      "cell_type": "code",
      "source": [
        "import pandas as pd\n",
        "from sklearn.model_selection import train_test_split, GridSearchCV\n",
        "from sklearn.preprocessing import StandardScaler, OneHotEncoder\n",
        "from sklearn.compose import ColumnTransformer\n",
        "from xgboost import XGBClassifier\n",
        "from sklearn.metrics import accuracy_score, classification_report\n",
        "from sklearn.pipeline import Pipeline\n",
        "from imblearn.over_sampling import ADASYN\n",
        "from imblearn.pipeline import Pipeline as IMBPipeline\n",
        "\n",
        "# Carga conjunto de datos\n",
        "data = pd.read_csv('/content/drive/MyDrive/Tesis/data/online_shoppers_intention.csv')\n",
        "\n",
        "# Ingeniería de características\n",
        "data['Total_Duration'] = data['Administrative_Duration'] + data['Informational_Duration'] + data['ProductRelated_Duration']\n",
        "data['Average_Duration'] = data['Total_Duration'] / (data['Administrative'] + data['Informational'] + data['ProductRelated'] + 1)\n",
        "data['Bounce_Exit_Rate'] = data['BounceRates'] * data['ExitRates']\n",
        "data['Administrative_Binary'] = (data['Administrative'] > 0).astype(int)\n",
        "\n",
        "# Preprocesamiento\n",
        "numeric_features = ['Administrative', 'Administrative_Duration', 'Informational',\n",
        "                    'Informational_Duration', 'ProductRelated', 'ProductRelated_Duration',\n",
        "                    'BounceRates', 'ExitRates', 'PageValues', 'SpecialDay',\n",
        "                    'Total_Duration', 'Average_Duration', 'Bounce_Exit_Rate', 'Administrative_Binary']\n",
        "categorical_features = ['Month', 'OperatingSystems', 'Browser', 'Region', 'TrafficType', 'VisitorType', 'Weekend']\n",
        "\n",
        "preprocessor = ColumnTransformer(\n",
        "    transformers=[\n",
        "        ('num', StandardScaler(), numeric_features),\n",
        "        ('cat', OneHotEncoder(drop='first', handle_unknown='ignore'), categorical_features)])\n",
        "\n",
        "\n",
        "# División en entrenamiento y prueba\n",
        "X = data.drop('Revenue', axis=1)\n",
        "y = data['Revenue']\n",
        "X_train, X_test, y_train, y_test = train_test_split(X, y, test_size=0.2, random_state=42)\n",
        "\n",
        "# Modelo XGBoost\n",
        "model = XGBClassifier(use_label_encoder=False, eval_metric='logloss')\n",
        "\n",
        "# Pipeline con ADASYN para el balanceo de clases\n",
        "pipeline = IMBPipeline([\n",
        "    ('preprocessor', preprocessor),\n",
        "    ('sampling', ADASYN(random_state=42)),\n",
        "    ('model', model)\n",
        "])\n",
        "\n",
        "# Hiperparámetros para la búsqueda en grilla\n",
        "param_grid = {\n",
        "    'model__n_estimators': [200, 209, 220],  # Rango cercano al obtenido en la optimización bayesiana\n",
        "    'model__max_depth': [3, 4, 6],  # Rango cercano al obtenido\n",
        "    'model__learning_rate': [0.04, 0.048, 0.05],  # Rango cercano al obtenido\n",
        "    'model__subsample': [0.9, 1.0],  # Rango cercano al obtenido\n",
        "    'model__colsample_bytree': [0.5, 0.52, 0.55],  # Rango cercano al obtenido\n",
        "    'model__min_child_weight': [1, 2, 3]  # Rango cercano al obtenido\n",
        "}\n",
        "\n",
        "# Búsqueda en grilla\n",
        "grid_search = GridSearchCV(pipeline, param_grid, cv=3, scoring='accuracy', verbose=1, n_jobs=-1)\n",
        "grid_search.fit(X_train, y_train)\n",
        "\n",
        "# Mejores hiperparámetros y evaluación del modelo\n",
        "best_model = grid_search.best_estimator_\n",
        "y_pred = best_model.predict(X_test)\n",
        "accuracy = accuracy_score(y_test, y_pred)\n",
        "classification_rep = classification_report(y_test, y_pred)\n",
        "\n",
        "print(\"Mejores hiperparámetros:\", grid_search.best_params_)\n",
        "print(\"Precisión:\", accuracy)\n",
        "print(\"Informe de clasificación:\\n\", classification_rep)\n"
      ],
      "metadata": {
        "colab": {
          "base_uri": "https://localhost:8080/"
        },
        "id": "5deV8r7g1h7v",
        "outputId": "8cf7ffef-3655-4268-c683-333bb2b0ddcf"
      },
      "execution_count": null,
      "outputs": [
        {
          "output_type": "stream",
          "name": "stdout",
          "text": [
            "Fitting 3 folds for each of 486 candidates, totalling 1458 fits\n",
            "Mejores hiperparámetros: {'model__colsample_bytree': 0.5, 'model__learning_rate': 0.05, 'model__max_depth': 6, 'model__min_child_weight': 1, 'model__n_estimators': 200, 'model__subsample': 0.9}\n",
            "Precisión: 0.8969991889699919\n",
            "Informe de clasificación:\n",
            "               precision    recall  f1-score   support\n",
            "\n",
            "       False       0.93      0.95      0.94      2055\n",
            "        True       0.71      0.65      0.68       411\n",
            "\n",
            "    accuracy                           0.90      2466\n",
            "   macro avg       0.82      0.80      0.81      2466\n",
            "weighted avg       0.89      0.90      0.90      2466\n",
            "\n"
          ]
        }
      ]
    },
    {
      "cell_type": "markdown",
      "source": [
        "**importancia de caracteristicas**"
      ],
      "metadata": {
        "id": "gEIbc08yRW9j"
      }
    },
    {
      "cell_type": "code",
      "source": [
        "import pandas as pd\n",
        "from sklearn.model_selection import train_test_split\n",
        "from sklearn.preprocessing import StandardScaler, OneHotEncoder\n",
        "from sklearn.compose import ColumnTransformer\n",
        "from sklearn.pipeline import Pipeline\n",
        "from xgboost import XGBClassifier\n",
        "from sklearn.metrics import accuracy_score, classification_report\n",
        "from imblearn.over_sampling import ADASYN\n",
        "from imblearn.pipeline import Pipeline as IMBPipeline\n",
        "import matplotlib.pyplot as plt\n",
        "\n",
        "# Carga conjunto de datos\n",
        "data = pd.read_csv('/content/drive/MyDrive/Tesis/data/online_shoppers_intention.csv')\n",
        "\n",
        "\n",
        "# Preprocesamiento\n",
        "numeric_features = ['Administrative', 'Administrative_Duration', 'Informational',\n",
        "                    'Informational_Duration', 'ProductRelated', 'ProductRelated_Duration',\n",
        "                    'BounceRates', 'ExitRates', 'PageValues', 'SpecialDay']\n",
        "categorical_features = ['Month', 'OperatingSystems', 'Browser', 'Region', 'TrafficType', 'VisitorType', 'Weekend']\n",
        "\n",
        "preprocessor = ColumnTransformer(\n",
        "    transformers=[\n",
        "        ('num', StandardScaler(), numeric_features),\n",
        "        ('cat', OneHotEncoder(drop='first', handle_unknown='ignore'), categorical_features)])\n",
        "\n",
        "# División en entrenamiento y prueba\n",
        "X = data.drop('Revenue', axis=1)\n",
        "y = data['Revenue']\n",
        "X_train, X_test, y_train, y_test = train_test_split(X, y, test_size=0.2, random_state=42)\n",
        "\n",
        "# Modelo XGBoost\n",
        "model = XGBClassifier(use_label_encoder=False, eval_metric='logloss', colsample_bytree=0.5, learning_rate=0.05, max_depth=6, min_child_weight=1, n_estimators=200, subsample=0.9)\n",
        "\n",
        "# Pipeline con ADASYN para el balanceo de clases\n",
        "pipeline = IMBPipeline([\n",
        "    ('preprocessor', preprocessor),\n",
        "    ('sampling', ADASYN(random_state=42)),\n",
        "    ('model', model)\n",
        "])\n",
        "\n",
        "# Entrenamiento del modelo\n",
        "pipeline.fit(X_train, y_train)\n",
        "\n",
        "# Evaluación del modelo\n",
        "y_pred = pipeline.predict(X_test)\n",
        "accuracy = accuracy_score(y_test, y_pred)\n",
        "classification_rep = classification_report(y_test, y_pred)\n",
        "\n",
        "print(\"Precisión:\", accuracy)\n",
        "print(\"Informe de clasificación:\\n\", classification_rep)\n",
        "\n",
        "# Evaluación de la importancia de las características\n",
        "feature_names = numeric_features\n",
        "\n",
        "# Características categóricas del OneHotEncoder\n",
        "if hasattr(pipeline.named_steps['preprocessor'].transformers_[1][1], 'get_feature_names_out'):\n",
        "    # Para versiones de scikit-learn 0.24 y posteriores\n",
        "    cat_feature_names = pipeline.named_steps['preprocessor'].transformers_[1][1].get_feature_names_out(categorical_features)\n",
        "else:\n",
        "    # versionamiento scikit-learn\n",
        "    cat_feature_names = pipeline.named_steps['preprocessor'].transformers_[1][1].get_feature_names(categorical_features)\n",
        "\n",
        "# todas las características\n",
        "feature_names.extend(cat_feature_names)\n",
        "\n",
        "# importancias de las características\n",
        "importances = pipeline.named_steps['model'].feature_importances_\n",
        "\n",
        "# Visualización de la importancia de las características\n",
        "plt.figure(figsize=(10, 20))\n",
        "plt.barh(feature_names, importances)\n",
        "plt.xlabel('Importancia')\n",
        "plt.ylabel('Característica')\n",
        "plt.title('Importancia de las características técnica XGBoost')\n",
        "plt.show()\n",
        "\n"
      ],
      "metadata": {
        "colab": {
          "base_uri": "https://localhost:8080/",
          "height": 1000
        },
        "id": "gyfDYk_aRY3X",
        "outputId": "dfc8504e-83f1-4dfd-fa85-18761869c4ad"
      },
      "execution_count": null,
      "outputs": [
        {
          "output_type": "stream",
          "name": "stdout",
          "text": [
            "Precisión: 0.8969991889699919\n",
            "Informe de clasificación:\n",
            "               precision    recall  f1-score   support\n",
            "\n",
            "       False       0.93      0.94      0.94      2055\n",
            "        True       0.70      0.67      0.68       411\n",
            "\n",
            "    accuracy                           0.90      2466\n",
            "   macro avg       0.82      0.81      0.81      2466\n",
            "weighted avg       0.90      0.90      0.90      2466\n",
            "\n"
          ]
        },
        {
          "output_type": "display_data",
          "data": {
            "text/plain": [
              "<Figure size 1000x2000 with 1 Axes>"
            ],
            "image/png": "[encoded data removed]"
          },
          "metadata": {}
        }
      ]
    },
    {
      "cell_type": "code",
      "source": [
        "import pandas as pd\n",
        "from sklearn.model_selection import train_test_split\n",
        "from sklearn.preprocessing import StandardScaler, OneHotEncoder\n",
        "from sklearn.compose import ColumnTransformer\n",
        "from xgboost import XGBClassifier\n",
        "from sklearn.metrics import accuracy_score, classification_report\n",
        "from sklearn.pipeline import Pipeline\n",
        "from imblearn.over_sampling import ADASYN\n",
        "from imblearn.pipeline import Pipeline as IMBPipeline\n",
        "\n",
        "# Carga conjunto de datos\n",
        "data = pd.read_csv('/content/drive/MyDrive/Tesis/data/online_shoppers_intention.csv')\n",
        "\n",
        "# Ingeniería de características avanzada\n",
        "data['Total_Duration'] = data['Administrative_Duration'] + data['Informational_Duration'] + data['ProductRelated_Duration']\n",
        "data['Total_Pages'] = data['Administrative'] + data['Informational'] + data['ProductRelated']\n",
        "data['Pages_Per_Duration'] = data['Total_Pages'] / (data['Total_Duration'] + 1)\n",
        "data['Admin_Duration_Ratio'] = data['Administrative_Duration'] / (data['Total_Duration'] + 1)\n",
        "data['Info_Duration_Ratio'] = data['Informational_Duration'] / (data['Total_Duration'] + 1)\n",
        "data['Product_Duration_Ratio'] = data['ProductRelated_Duration'] / (data['Total_Duration'] + 1)\n",
        "data['Page_Bounce_Exit_Ratio'] = data['PageValues'] * data['BounceRates'] * data['ExitRates']\n",
        "data['Admin_Info_Ratio'] = data['Administrative_Duration'] / (data['Informational_Duration'] + 1)\n",
        "\n",
        "# Convertir 'Month' a numérico\n",
        "months = {\"Jan\": 1, \"Feb\": 2, \"Mar\": 3, \"Apr\": 4, \"May\": 5, \"June\": 6,\n",
        "          \"Jul\": 7, \"Aug\": 8, \"Sep\": 9, \"Oct\": 10, \"Nov\": 11, \"Dec\": 12}\n",
        "data['Month_Num'] = data['Month'].map(months)\n",
        "\n",
        "# Preprocesamiento\n",
        "numeric_features = ['Administrative', 'Administrative_Duration', 'Informational',\n",
        "                    'Informational_Duration', 'ProductRelated', 'ProductRelated_Duration',\n",
        "                    'BounceRates', 'ExitRates', 'PageValues', 'SpecialDay',\n",
        "                    'Total_Duration', 'Total_Pages', 'Pages_Per_Duration',\n",
        "                    'Admin_Duration_Ratio', 'Info_Duration_Ratio', 'Product_Duration_Ratio',\n",
        "                    'Page_Bounce_Exit_Ratio', 'Admin_Info_Ratio', 'Month_Num']\n",
        "categorical_features = ['OperatingSystems', 'Browser', 'Region', 'TrafficType', 'VisitorType', 'Weekend']\n",
        "\n",
        "preprocessor = ColumnTransformer(\n",
        "    transformers=[\n",
        "        ('num', StandardScaler(), numeric_features),\n",
        "        ('cat', OneHotEncoder(drop='first', handle_unknown='ignore'), categorical_features)])\n",
        "\n",
        "# División en entrenamiento y prueba\n",
        "X = data.drop('Revenue', axis=1)\n",
        "y = data['Revenue']\n",
        "X_train, X_test, y_train, y_test = train_test_split(X, y, test_size=0.2, random_state=42)\n",
        "\n",
        "# Modelo XGBoost con el pipeline\n",
        "model = XGBClassifier(use_label_encoder=False, eval_metric='logloss')\n",
        "pipeline = IMBPipeline([\n",
        "    ('preprocessor', preprocessor),\n",
        "    ('sampling', ADASYN(random_state=42)),\n",
        "    ('model', model)\n",
        "])\n",
        "\n",
        "# Entrenamiento y evaluación del modelo\n",
        "pipeline.fit(X_train, y_train)\n",
        "y_pred = pipeline.predict(X_test)\n",
        "accuracy = accuracy_score(y_test, y_pred)\n",
        "classification_rep = classification_report(y_test, y_pred)\n",
        "\n",
        "print(\"Precisión:\", accuracy)\n",
        "print(\"Informe de clasificación:\\n\", classification_rep)\n"
      ],
      "metadata": {
        "colab": {
          "base_uri": "https://localhost:8080/"
        },
        "id": "ZCwrxza5UD9q",
        "outputId": "b69b70fa-d5ed-4d8a-b5ee-f238a41cb0c5"
      },
      "execution_count": null,
      "outputs": [
        {
          "output_type": "stream",
          "name": "stdout",
          "text": [
            "Precisión: 0.8905109489051095\n",
            "Informe de clasificación:\n",
            "               precision    recall  f1-score   support\n",
            "\n",
            "       False       0.92      0.95      0.94      2055\n",
            "        True       0.69      0.62      0.65       411\n",
            "\n",
            "    accuracy                           0.89      2466\n",
            "   macro avg       0.81      0.78      0.79      2466\n",
            "weighted avg       0.89      0.89      0.89      2466\n",
            "\n"
          ]
        }
      ]
    },
    {
      "cell_type": "code",
      "source": [
        "import pandas as pd\n",
        "from sklearn.model_selection import train_test_split, GridSearchCV\n",
        "from sklearn.preprocessing import StandardScaler, OneHotEncoder\n",
        "from sklearn.compose import ColumnTransformer\n",
        "from sklearn.ensemble import RandomForestClassifier, VotingClassifier\n",
        "from xgboost import XGBClassifier\n",
        "from sklearn.metrics import accuracy_score, classification_report\n",
        "from imblearn.pipeline import Pipeline as IMBPipeline\n",
        "from imblearn.over_sampling import ADASYN\n",
        "\n",
        "# Carga del conjunto de datos\n",
        "file_path = '/content/drive/MyDrive/Tesis/data/online_shoppers_intention.csv'\n",
        "data = pd.read_csv(file_path)\n",
        "\n",
        "# Ingeniería de características avanzada\n",
        "data['Total_Duration'] = data['Administrative_Duration'] + data['Informational_Duration'] + data['ProductRelated_Duration']\n",
        "data['Total_Pages'] = data['Administrative'] + data['Informational'] + data['ProductRelated']\n",
        "data['Pages_Per_Duration'] = data['Total_Pages'] / (data['Total_Duration'] + 1)\n",
        "data['Admin_Duration_Ratio'] = data['Administrative_Duration'] / (data['Total_Duration'] + 1)\n",
        "data['Info_Duration_Ratio'] = data['Informational_Duration'] / (data['Total_Duration'] + 1)\n",
        "data['Product_Duration_Ratio'] = data['ProductRelated_Duration'] / (data['Total_Duration'] + 1)\n",
        "data['Page_Bounce_Exit_Ratio'] = data['PageValues'] * data['BounceRates'] * data['ExitRates']\n",
        "data['Admin_Info_Ratio'] = data['Administrative_Duration'] / (data['Informational_Duration'] + 1)\n",
        "\n",
        "# Identificar y eliminar características que no contribuyen significativamente\n",
        "features_to_drop = ['BounceRates', 'ExitRates']\n",
        "data.drop(features_to_drop, axis=1, inplace=True)\n",
        "\n",
        "# Definición de características numéricas y categóricas (ajustadas después de eliminar algunas características)\n",
        "numeric_features = ['Administrative', 'Administrative_Duration', 'Informational',\n",
        "                    'Informational_Duration', 'ProductRelated', 'ProductRelated_Duration',\n",
        "                    'PageValues', 'SpecialDay', 'Total_Duration', 'Total_Pages',\n",
        "                    'Pages_Per_Duration', 'Admin_Duration_Ratio', 'Info_Duration_Ratio',\n",
        "                    'Product_Duration_Ratio', 'Page_Bounce_Exit_Ratio', 'Admin_Info_Ratio']\n",
        "categorical_features = ['Month', 'OperatingSystems', 'Browser', 'Region', 'TrafficType',\n",
        "                        'VisitorType', 'Weekend']\n",
        "\n",
        "# División en entrenamiento y prueba\n",
        "X = data.drop('Revenue', axis=1)\n",
        "y = data['Revenue']\n",
        "X_train, X_test, y_train, y_test = train_test_split(X, y, test_size=0.2, random_state=42)\n",
        "\n",
        "# Preprocesamiento\n",
        "preprocessor = ColumnTransformer(\n",
        "    transformers=[\n",
        "        ('num', StandardScaler(), numeric_features),\n",
        "        ('cat', OneHotEncoder(drop='first', handle_unknown='ignore'), categorical_features)])\n",
        "\n",
        "# Crear modelos individuales\n",
        "model_rf = RandomForestClassifier(n_estimators=100, random_state=42)\n",
        "model_xgb = XGBClassifier(use_label_encoder=False, eval_metric='logloss', random_state=42)\n",
        "\n",
        "# Ensamblaje de modelos usando VotingClassifier\n",
        "ensemble = VotingClassifier(\n",
        "    estimators=[('rf', model_rf), ('xgb', model_xgb)],\n",
        "    voting='soft'\n",
        ")\n",
        "\n",
        "# Pipeline con ensamblaje y ADASYN para el balanceo de clases\n",
        "adasyn = ADASYN(random_state=42, sampling_strategy='auto')\n",
        "pipeline = IMBPipeline([\n",
        "    ('preprocessor', preprocessor),\n",
        "    ('sampling', adasyn),\n",
        "    ('ensemble', ensemble)\n",
        "])\n",
        "\n",
        "# Entrenamiento y evaluación del modelo\n",
        "pipeline.fit(X_train, y_train)\n",
        "y_pred = pipeline.predict(X_test)\n",
        "accuracy = accuracy_score(y_test, y_pred)\n",
        "classification_rep = classification_report(y_test, y_pred)\n",
        "\n",
        "print(\"Precisión:\", accuracy)\n",
        "print(\"Informe de clasificación:\\n\", classification_rep)\n"
      ],
      "metadata": {
        "colab": {
          "base_uri": "https://localhost:8080/"
        },
        "id": "U6D9mGCMBtuG",
        "outputId": "12c23182-b35c-4e2d-dc72-70f32004c54e"
      },
      "execution_count": null,
      "outputs": [
        {
          "output_type": "stream",
          "name": "stdout",
          "text": [
            "Precisión: 0.8969991889699919\n",
            "Informe de clasificación:\n",
            "               precision    recall  f1-score   support\n",
            "\n",
            "       False       0.93      0.95      0.94      2055\n",
            "        True       0.71      0.64      0.68       411\n",
            "\n",
            "    accuracy                           0.90      2466\n",
            "   macro avg       0.82      0.80      0.81      2466\n",
            "weighted avg       0.89      0.90      0.89      2466\n",
            "\n"
          ]
        }
      ]
    },
    {
      "cell_type": "code",
      "source": [
        "import matplotlib.pyplot as plt\n",
        "\n",
        "precision_modelo = 89.69  # Precisión del 89.69%\n",
        "recall_modelo = 85.00\n",
        "f1_score_modelo = 87.00\n",
        "\n",
        "# gráfico de barras\n",
        "labels = ['Precisión', 'Recall', 'F1-Score']\n",
        "scores = [precision_modelo, recall_modelo, f1_score_modelo]\n",
        "\n",
        "fig, ax = plt.subplots()\n",
        "bars = ax.bar(labels, scores, color=['blue', 'green', 'red'])\n",
        "\n",
        "# puntuaciones\n",
        "for bar in bars:\n",
        "    yval = bar.get_height()\n",
        "    plt.text(bar.get_x() + bar.get_width()/2.0, yval, f'{yval:.2f}%', va='bottom', ha='center')\n",
        "\n",
        "# gráfico\n",
        "plt.ylim(0, 100)  # límite del eje Y para porcentajes\n",
        "plt.ylabel('Porcentaje')\n",
        "plt.title('Evaluación del Método propuesto')\n",
        "plt.tight_layout()\n",
        "\n",
        "# Mostrar gráfico\n",
        "plt.show()\n"
      ],
      "metadata": {
        "colab": {
          "base_uri": "https://localhost:8080/",
          "height": 487
        },
        "id": "OP6wZoC6RxHF",
        "outputId": "01bbc20c-e63f-4e16-a8cf-45d189bfa575"
      },
      "execution_count": null,
      "outputs": [
        {
          "output_type": "display_data",
          "data": {
            "text/plain": [
              "<Figure size 640x480 with 1 Axes>"
            ],
            "image/png": "[encoded data removed]"
          },
          "metadata": {}
        }
      ]
    }
  ]
}